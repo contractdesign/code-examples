{
 "cells": [
  {
   "cell_type": "markdown",
   "metadata": {},
   "source": [
    "# Experimenting with Docker's Python API\n",
    "\n",
    "Documentation\n",
    "- [read the docs](https://docker-py.readthedocs.io/en/stable/)\n",
    "- [reference](https://docker-py.readthedocs.io/en/stable/client.html)\n"
   ]
  },
  {
   "cell_type": "code",
   "execution_count": null,
   "metadata": {},
   "outputs": [],
   "source": [
    "import docker\n",
    "client = docker.from_env()"
   ]
  },
  {
   "cell_type": "code",
   "execution_count": null,
   "metadata": {
    "scrolled": true
   },
   "outputs": [],
   "source": [
    "l_container = [client.containers.run(image=\"centos\",\n",
    "                                     command=\"tail -f /dev/null\",\n",
    "                                     domainname=f'container_{n}.com',\n",
    "                                     network='test',\n",
    "                                     name=f'container_{n}', detach=True) for n in range(10)]"
   ]
  },
  {
   "cell_type": "code",
   "execution_count": null,
   "metadata": {},
   "outputs": [],
   "source": [
    "for c in l_container:\n",
    "    print(f'killing {c}')\n",
    "    c.kill()\n",
    "    c.remove()"
   ]
  },
  {
   "cell_type": "markdown",
   "metadata": {},
   "source": [
    "How to assign an IP address to a container [gist](https://github.com/docker/docker-py/issues/2006)"
   ]
  },
  {
   "cell_type": "code",
   "execution_count": null,
   "metadata": {},
   "outputs": [],
   "source": []
  }
 ],
 "metadata": {
  "kernelspec": {
   "display_name": "Python 3",
   "language": "python",
   "name": "python3"
  },
  "language_info": {
   "codemirror_mode": {
    "name": "ipython",
    "version": 3
   },
   "file_extension": ".py",
   "mimetype": "text/x-python",
   "name": "python",
   "nbconvert_exporter": "python",
   "pygments_lexer": "ipython3",
   "version": "3.8.2"
  }
 },
 "nbformat": 4,
 "nbformat_minor": 4
}
