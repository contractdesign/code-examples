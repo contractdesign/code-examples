{
 "cells": [
  {
   "cell_type": "markdown",
   "metadata": {},
   "source": [
    "## Summary\n",
    "\n",
    "This notebook contains notes and examples on topics in Python that I find confusing.\n",
    "\n",
    "### strings, bytes, bytearrays\n",
    "\n",
    "I have found this topic to be very confusing.  There are a number of changes from Python 2 to 3 which only adds to the confusion.\n",
    "\n",
    "As its name suggests, a ```byte``` is an array or list of bytes.  ```bytearray``` is the mutable version of ```byte```.  Both can be assigned in a few ways:"
   ]
  },
  {
   "cell_type": "code",
   "execution_count": 91,
   "metadata": {},
   "outputs": [
    {
     "data": {
      "text/plain": [
       "(b'\\x01\\x02a\\xff', b'\\x01\\x02a\\xff', bytearray(b'test\\x03'))"
      ]
     },
     "execution_count": 91,
     "metadata": {},
     "output_type": "execute_result"
    }
   ],
   "source": [
    "a = bytes([1, 2, ord('a'), 255])\n",
    "b = b'\\x01\\x02\\x61\\xff'\n",
    "c = bytearray('test'.encode('utf-8'))\n",
    "c.append(3)\n",
    "a, b, c"
   ]
  },
  {
   "cell_type": "markdown",
   "metadata": {},
   "source": [
    "Let's look at the difference in between the functions available in ```byte``` and ```bytearray```.  Since ```bytearray``` is the mutable version of ```byte```, we would expect that its functions would be a superset of those of ```byte```.  As it turns out, this is almost the case.  The additional functions are for manipulating the list.  I don't know what ```__getnewargs__``` does, and the little google-searching I did did not further my understanding."
   ]
  },
  {
   "cell_type": "code",
   "execution_count": 92,
   "metadata": {},
   "outputs": [
    {
     "name": "stdout",
     "output_type": "stream",
     "text": [
      "functions in byte but not in bytearray:\n",
      "\t ['__getnewargs__'] \n",
      "\n",
      "functions in bytearray but not in byte:\n",
      "\t ['__alloc__', '__delitem__', '__iadd__', '__imul__', '__setitem__', 'append', 'clear', 'copy', 'extend', 'insert', 'pop', 'remove', 'reverse'] \n",
      "\n",
      "functions common to both byte and bytearray:\n",
      "\t ['__add__', '__class__', '__contains__', '__delattr__', '__dir__', '__doc__', '__eq__', '__format__', '__ge__', '__getattribute__', '__getitem__', '__gt__', '__hash__', '__init__', '__init_subclass__', '__iter__', '__le__', '__len__', '__lt__', '__mod__', '__mul__', '__ne__', '__new__', '__reduce__', '__reduce_ex__', '__repr__', '__rmod__', '__rmul__', '__setattr__', '__sizeof__', '__str__', '__subclasshook__', 'capitalize', 'center', 'count', 'decode', 'endswith', 'expandtabs', 'find', 'fromhex', 'hex', 'index', 'isalnum', 'isalpha', 'isdigit', 'islower', 'isspace', 'istitle', 'isupper', 'join', 'ljust', 'lower', 'lstrip', 'maketrans', 'partition', 'replace', 'rfind', 'rindex', 'rjust', 'rpartition', 'rsplit', 'rstrip', 'split', 'splitlines', 'startswith', 'strip', 'swapcase', 'title', 'translate', 'upper', 'zfill'] \n",
      "\n"
     ]
    }
   ],
   "source": [
    "ba = bytearray(a)\n",
    "\n",
    "f_ba = set(dir(c))\n",
    "f_a = set(dir(a))\n",
    "print('functions in byte but not in bytearray:\\n\\t', sorted(f_a.difference(f_ba)), '\\n')\n",
    "print('functions in bytearray but not in byte:\\n\\t', sorted(f_ba.difference(f_a)), '\\n')\n",
    "print('functions common to both byte and bytearray:\\n\\t', sorted(f_a.intersection(f_ba)), '\\n')"
   ]
  },
  {
   "cell_type": "markdown",
   "metadata": {},
   "source": [
    "### strings vs bytes/bytearrays\n",
    "\n",
    "This [link](https://stackoverflow.com/questions/6224052/what-is-the-difference-between-a-string-and-a-byte-string) explains\n",
    "the difference between a string and a byte clearly.  While many programmers cut their teeth in languages where strings were ASCII and thus each character was a byte, in Python strings are defined to be sequences of unicode characters, and there could be multiple ways (\"encodings\") to convert a sequence of characters to a sequence of bytes.  Note that the length of the string is the number of characters which might not be the same as the number of bytes (see below)\n",
    "\n",
    "To convert a string to bytes, use ```encode```.  The default encoding is ```utf-8```.  I can't find a list of the built-in encodings supported.  You can do other possible encodings by using the [codec](https://docs.python.org/3/library/codecs.html) library.\n",
    "\n",
    "To convert a byte/bytearray to a string, use ```decode```."
   ]
  },
  {
   "cell_type": "code",
   "execution_count": 93,
   "metadata": {},
   "outputs": [
    {
     "name": "stdout",
     "output_type": "stream",
     "text": [
      "string length is not the same as the number of bytes: 6 10 10\n",
      "decoded version from bytes: τoρνoς\n"
     ]
    }
   ],
   "source": [
    "s='τoρνoς'\n",
    "\n",
    "# TODO what the the built-in encodings?\n",
    "b = s.encode()\n",
    "ba = bytearray(s.encode())\n",
    "print('string length is not the same as the number of bytes:', len(s), len(b), len(ba))\n",
    "\n",
    "s_decode = ba.decode()\n",
    "print('decoded version from bytes:', s_decode)"
   ]
  },
  {
   "cell_type": "markdown",
   "metadata": {},
   "source": [
    "This is an example using a codec.  One must use ```encode``` to convert a byte to another byte.  A ```decode```\n",
    "function is available in the library, but I don't know when it should be used.  Maybe it's only for strings?\n",
    "\n",
    "Here's a [thread](https://stackoverflow.com/questions/447107/what-is-the-difference-between-encode-decode)\n",
    "on stack overflow that explains encode/decode for strings and bytes."
   ]
  },
  {
   "cell_type": "code",
   "execution_count": 99,
   "metadata": {},
   "outputs": [
    {
     "name": "stdout",
     "output_type": "stream",
     "text": [
      "b'\\x01\\x02\\x03\\x04\\x05' b'AQIDBAU=\\n'\n"
     ]
    }
   ],
   "source": [
    "import codecs\n",
    "temp = bytes([1, 2, 3, 4, 5])\n",
    "\n",
    "temp_b64 = codecs.encode(temp, 'base64')\n",
    "print(temp, temp_b64)"
   ]
  },
  {
   "cell_type": "code",
   "execution_count": null,
   "metadata": {},
   "outputs": [],
   "source": []
  }
 ],
 "metadata": {
  "kernelspec": {
   "display_name": "Python 3",
   "language": "python",
   "name": "python3"
  },
  "language_info": {
   "codemirror_mode": {
    "name": "ipython",
    "version": 3
   },
   "file_extension": ".py",
   "mimetype": "text/x-python",
   "name": "python",
   "nbconvert_exporter": "python",
   "pygments_lexer": "ipython3",
   "version": "3.6.9"
  }
 },
 "nbformat": 4,
 "nbformat_minor": 2
}
