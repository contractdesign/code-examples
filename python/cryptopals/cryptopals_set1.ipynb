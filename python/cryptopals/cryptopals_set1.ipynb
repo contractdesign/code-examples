{
 "cells": [
  {
   "cell_type": "code",
   "execution_count": 20,
   "metadata": {},
   "outputs": [],
   "source": [
    "# useful functions used below\n",
    "\n",
    "# https://stackoverflow.com/questions/6224052/what-is-the-difference-between-a-string-and-a-byte-string\n",
    "# to convert from byte -> string use encode\n",
    "# to convert from string -> byte use decode\n",
    "\n",
    "def divide_into_blocks(text, blocksize):\n",
    "    \"\"\"divide array into blocks\"\"\"\n",
    "    return [text[i:i + blocksize] for i in range(0, len(text), blocksize)]\n",
    "\n",
    "def readfile(filename):\n",
    "    \"\"\"returns the list of lines in a file with newlines stripped\"\"\"\n",
    "    with open(filename) as f:\n",
    "        # strip off new lines and create a list of the lines in the file\n",
    "        return list(map(lambda x: x.rstrip(), list(f)))"
   ]
  },
  {
   "cell_type": "markdown",
   "metadata": {},
   "source": [
    "This document has Python solutions to the cryptopals [set1 problems](https://cryptopals.com/sets/1).\n",
    "\n",
    "### Challenge 1: Convert hex to base64"
   ]
  },
  {
   "cell_type": "code",
   "execution_count": 21,
   "metadata": {},
   "outputs": [
    {
     "data": {
      "text/plain": [
       "'SSdtIGtpbGxpbmcgeW91ciBicmFpbiBsaWtlIGEgcG9pc29ub3VzIG11c2hyb29t\\n'"
      ]
     },
     "execution_count": 21,
     "metadata": {},
     "output_type": "execute_result"
    }
   ],
   "source": [
    "# found here https://stackoverflow.com/questions/33704327/hex-to-base64-conversion-in-python/33704357\n",
    "import codecs\n",
    "\n",
    "def hex2base64(s):\n",
    "    return codecs.encode(codecs.decode(s, 'hex'), 'base64').decode()\n",
    "\n",
    "hex2base64(\"49276d206b696c6c696e6720796f757220627261696e206c696b65206120706f69736f6e6f7573206d757368726f6f6d\")"
   ]
  },
  {
   "cell_type": "markdown",
   "metadata": {},
   "source": [
    "### Challenge 2: fixed XOR\n",
    "\n",
    "Note: in Python, bytes() is immutable, while bytearray() is a mutable version."
   ]
  },
  {
   "cell_type": "code",
   "execution_count": 22,
   "metadata": {},
   "outputs": [
    {
     "name": "stdout",
     "output_type": "stream",
     "text": [
      "b'746865206b696420646f6e277420706c6179'\n"
     ]
    }
   ],
   "source": [
    "def fixed_XOR(a_hex, b_hex):\n",
    "    \"\"\"XOR hex strings together and return the resultant hex string\"\"\"\n",
    "    # convert to raw bytes\n",
    "    assert len(a_hex)==len(b_hex)\n",
    "    a_bytes = codecs.decode(a_hex, 'hex')\n",
    "    b_bytes = codecs.decode(b_hex, 'hex')\n",
    "    \n",
    "    c = bytearray()\n",
    "    for i in range(len(a_bytes)):\n",
    "        c.append(a_bytes[i] ^ b_bytes[i])\n",
    "    return codecs.encode(c, 'hex')\n",
    "\n",
    "a = '1c0111001f010100061a024b53535009181c'\n",
    "b = '686974207468652062756c6c277320657965'\n",
    "\n",
    "print(fixed_XOR(a,b))"
   ]
  },
  {
   "cell_type": "markdown",
   "metadata": {},
   "source": [
    "### Challenge 3: Single-byte XOR cipher\n",
    "\n",
    "The solution suggests using a heuristic to identify the non-jibberish string more easily.  I chose to count the number of A-Z,a-z letters in each string as implemented in ```count_letters()``` and playing with the threshold count for this to limit the number of strings.  The resultant string is:\n",
    "\n",
    "```\n",
    "88 27 bytearray(b\"Cooking MC\\'s like a pound of bacon\")\n",
    "```"
   ]
  },
  {
   "cell_type": "code",
   "execution_count": 23,
   "metadata": {},
   "outputs": [
    {
     "ename": "NameError",
     "evalue": "name 'num_words' is not defined",
     "output_type": "error",
     "traceback": [
      "\u001b[0;31m---------------------------------------------------------------------------\u001b[0m",
      "\u001b[0;31mNameError\u001b[0m                                 Traceback (most recent call last)",
      "\u001b[0;32m<ipython-input-23-27ffae1c01b3>\u001b[0m in \u001b[0;36m<module>\u001b[0;34m\u001b[0m\n\u001b[1;32m     35\u001b[0m \u001b[0;34m\u001b[0m\u001b[0m\n\u001b[1;32m     36\u001b[0m \u001b[0ms_hex\u001b[0m \u001b[0;34m=\u001b[0m \u001b[0;34m'1b37373331363f78151b7f2b783431333d78397828372d363c78373e783a393b3736'\u001b[0m\u001b[0;34m\u001b[0m\u001b[0;34m\u001b[0m\u001b[0m\n\u001b[0;32m---> 37\u001b[0;31m \u001b[0mdisplay_strings\u001b[0m\u001b[0;34m(\u001b[0m\u001b[0ms_hex\u001b[0m\u001b[0;34m,\u001b[0m \u001b[0mconvert_to_bytes\u001b[0m\u001b[0;34m=\u001b[0m\u001b[0;32mTrue\u001b[0m\u001b[0;34m)\u001b[0m\u001b[0;34m\u001b[0m\u001b[0;34m\u001b[0m\u001b[0m\n\u001b[0m",
      "\u001b[0;32m<ipython-input-23-27ffae1c01b3>\u001b[0m in \u001b[0;36mdisplay_strings\u001b[0;34m(s, threshold, convert_to_bytes)\u001b[0m\n\u001b[1;32m     32\u001b[0m         \u001b[0mcandidate\u001b[0m \u001b[0;34m=\u001b[0m \u001b[0mbytearray\u001b[0m\u001b[0;34m(\u001b[0m\u001b[0;34m[\u001b[0m\u001b[0mb\u001b[0m\u001b[0;34m^\u001b[0m\u001b[0mi\u001b[0m \u001b[0;32mfor\u001b[0m \u001b[0mb\u001b[0m \u001b[0;32min\u001b[0m \u001b[0ms_bytes\u001b[0m\u001b[0;34m]\u001b[0m\u001b[0;34m)\u001b[0m\u001b[0;34m\u001b[0m\u001b[0;34m\u001b[0m\u001b[0m\n\u001b[1;32m     33\u001b[0m         \u001b[0;32mif\u001b[0m \u001b[0mis_printable\u001b[0m\u001b[0;34m(\u001b[0m\u001b[0mcandidate\u001b[0m\u001b[0;34m)\u001b[0m \u001b[0;32mand\u001b[0m \u001b[0mnum_spaces\u001b[0m\u001b[0;34m(\u001b[0m\u001b[0mcandidate\u001b[0m\u001b[0;34m)\u001b[0m \u001b[0;34m>\u001b[0m \u001b[0;36m3\u001b[0m\u001b[0;34m:\u001b[0m\u001b[0;34m\u001b[0m\u001b[0;34m\u001b[0m\u001b[0m\n\u001b[0;32m---> 34\u001b[0;31m             \u001b[0mprint\u001b[0m\u001b[0;34m(\u001b[0m\u001b[0;34m'\\t'\u001b[0m\u001b[0;34m,\u001b[0m \u001b[0mi\u001b[0m\u001b[0;34m,\u001b[0m \u001b[0mcount_letters\u001b[0m\u001b[0;34m(\u001b[0m\u001b[0mcandidate\u001b[0m\u001b[0;34m)\u001b[0m\u001b[0;34m,\u001b[0m \u001b[0mis_printable\u001b[0m\u001b[0;34m(\u001b[0m\u001b[0mcandidate\u001b[0m\u001b[0;34m)\u001b[0m\u001b[0;34m,\u001b[0m \u001b[0mnum_words\u001b[0m\u001b[0;34m(\u001b[0m\u001b[0mcandidate\u001b[0m\u001b[0;34m)\u001b[0m\u001b[0;34m,\u001b[0m \u001b[0mcandidate\u001b[0m\u001b[0;34m)\u001b[0m\u001b[0;34m\u001b[0m\u001b[0;34m\u001b[0m\u001b[0m\n\u001b[0m\u001b[1;32m     35\u001b[0m \u001b[0;34m\u001b[0m\u001b[0m\n\u001b[1;32m     36\u001b[0m \u001b[0ms_hex\u001b[0m \u001b[0;34m=\u001b[0m \u001b[0;34m'1b37373331363f78151b7f2b783431333d78397828372d363c78373e783a393b3736'\u001b[0m\u001b[0;34m\u001b[0m\u001b[0;34m\u001b[0m\u001b[0m\n",
      "\u001b[0;31mNameError\u001b[0m: name 'num_words' is not defined"
     ]
    }
   ],
   "source": [
    "import string\n",
    "\n",
    "def count_letters(ba: bytearray):\n",
    "    \"\"\"return a count of the letters A-Z,a-z in the bytearray\"\"\"\n",
    "    count = 0\n",
    "    for b in ba:\n",
    "        if b in range(ord('a'), ord('z') + 1) or \\\n",
    "           b in range(ord('A'), ord('Z') + 1) or \\\n",
    "           b==' ':\n",
    "            count += 1\n",
    "    return count\n",
    "\n",
    "# https://stackoverflow.com/questions/196345/how-to-check-if-a-string-in-python-is-in-ascii\n",
    "# https://stackoverflow.com/questions/42064158/checking-if-a-byte-is-ascii-printable\n",
    "\n",
    "def is_printable(ba):\n",
    "    printable_chars = set(bytes(string.printable, 'ascii'))\n",
    "    return all(char in printable_chars for char in ba)\n",
    "\n",
    "def num_spaces(ba):\n",
    "    return sum([char==ord(' ') for char in ba])\n",
    "\n",
    "\n",
    "# TODO fix threshold\n",
    "def display_strings(s, threshold=26, convert_to_bytes=True):\n",
    "    # convert input if necessary to bytearray()\n",
    "    if convert_to_bytes:\n",
    "        s_bytes = codecs.decode(s, 'hex')\n",
    "    else:\n",
    "        s_bytes = s\n",
    "    for i in range(1, 256):\n",
    "        candidate = bytearray([b^i for b in s_bytes])\n",
    "        if is_printable(candidate) and num_spaces(candidate) > 3:\n",
    "            print('\\t', i, count_letters(candidate), is_printable(candidate), num_words(candidate), candidate)\n",
    "\n",
    "s_hex = '1b37373331363f78151b7f2b783431333d78397828372d363c78373e783a393b3736'\n",
    "display_strings(s_hex, convert_to_bytes=True)"
   ]
  },
  {
   "cell_type": "markdown",
   "metadata": {},
   "source": [
    "### Challenge 4: Detect single-string XOR\n",
    "\n",
    "The 171-st string contains the string \"Now that the party is jumping\".\n",
    "\n",
    "```\n",
    "171:\t7b5a4215415d544115415d5015455447414c155c46155f4058455c5b523f\n",
    "\t 3 24 bytearray(b'xYA\\x16B^WB\\x16B^S\\x16FWDBO\\x16_E\\x16\\\\C[F_XQ<')\n",
    "...\n",
    "\t 53 24 bytearray(b'Now that the party is jumping\\n')\n",
    "...\n",
    "```\n",
    "\n",
    "Interestingly, there are many other strings with higher counts.  I should think of a better heuristic..."
   ]
  },
  {
   "cell_type": "code",
   "execution_count": 24,
   "metadata": {},
   "outputs": [
    {
     "name": "stdout",
     "output_type": "stream",
     "text": [
      "1:\t0e3647e8592d35514a081243582536ed3de6734059001e3f535ce6271032\n",
      "2:\t334b041de124f73c18011a50e608097ac308ecee501337ec3e100854201d\n",
      "3:\t40e127f51c10031d0133590b1e490f3514e05a54143d08222c2a4071e351\n",
      "4:\t45440b171d5c1b21342e021c3a0eee7373215c4024f0eb733cf006e2040c\n",
      "5:\t22015e420b07ef21164d5935e82338452f42282c1836e42536284c450de3\n",
      "6:\t043b452e0268e7eb005a080b360f0642e6e342005217ef04a42f3e43113d\n",
      "7:\t581e0829214202063d70030845e5301f5a5212ed0818e22f120b211b171b\n",
      "8:\tea0b342957394717132307133f143a1357e9ed1f5023034147465c052616\n",
      "9:\t0c300b355c2051373a051851ee154a023723414c023a08171e1b4f17595e\n",
      "10:\t550c3e13e80246320b0bec09362542243be42d1d5d060e203e1a0c66ef48\n",
      "11:\te159464a582a6a0c50471310084f6b1703221d2e7a54502b2b205c433afa\n",
      "12:\tec58ea200e3005090e1725005739eda7342aed311001383fff7c58ef1f11\n",
      "13:\t01305424231c0d2c41f105057f74510d335440332f1038ec17275f5814e1\n",
      "14:\t05f12f380720ea2b19e24a07e53c142128354e2827f25a08fb401c3126a6\n",
      "15:\t0d17272f53063954163d050a541b1f1144305ae37d4932431b1f33140b1b\n",
      "16:\t0b4f070f071fe92c200e1fa05e4b272e50201b5d493110e429482c100730\n",
      "17:\t100a3148080f227fe60a132f0c10174fe3f63d1a5d38eb414ca8e82f2b05\n",
      "18:\t0a19e83c58400a023b13234572e6e4272bf67434331631e63b5e0f00175c\n",
      "19:\t54520c2ceb45530e0f78111d0b0707e01e4bf43b0606073854324421e6f9\n",
      "20:\t09e7585353ee4a34190de1354e481c373a1b2b0a136127383e271212191f\n",
      "21:\t0f060d09fb4f2d5024022c5ff6463c390c2b5f1a5532071a31f33503fcea\n",
      "22:\t371d39121605584f48217235ee1e0602445c162e4942254c071954321d29\n",
      "23:\t4a0900e63e5f161e15554045f3594c2a6a77e4e52711602beaf53ae53bed\n",
      "24:\t29011616565d2a372a605bee39eced31183fe068185c3b445b391fe53232\n",
      "25:\te4102337000303452a1e2f2b29493f54ed5a037b3e08311b625cfd005009\n",
      "26:\t2d560d4b0618203249312a310d5f541f295c3f0f25235c2b20037d1600f3\n",
      "27:\t2c245155e8253708391a7ceb0d05005c3e080f3f0f0e5a16583b111f4448\n",
      "28:\t493804044d262eec3759594f212d562420105d6a39e70a0f3957f347070c\n",
      "29:\te72d1d1f103807590f4339575e00381074485d2d580249f744052605e11d\n",
      "30:\te131570ae95307143a71131729552d001057a4540a1f425b190b572dee34\n",
      "31:\t2c1655342f02581c202b0a5c17a358291e1506f325550f05365e165c1c5f\n",
      "32:\te318164df80b043e5406296e5359271d152f552e155a43eda81f23231d1c\n",
      "33:\t001de0413e174e18192c061e4b3d1b5626f90e3e1429544a20ee150d0c20\n",
      "34:\t32e902193219033c58191302441a5c1b584825ea140c290927aaea53e23c\n",
      "35:\t3a36363a732e32ea3f0e430508204b332c382a19292d5b291122e123446a\n",
      "36:\t1804115614031f5f571f2b143c5d3c1b257a4b37350f18445a3e08341c3d\n",
      "37:\t21f2fb250b2e55151e77253a3f0e5f4b2030370a4155e720e73914e35a4a\n",
      "38:\t510a55583a3c491221397c123a2b14a8305b3b09e71b241d0e51202e1a32\n",
      "39:\t1b51202f4917232b512a141d6812f03c455df05e5a1c2cee14390b3b593a\n",
      "40:\t5f5731e5203116ee131a4a4b24112cef5d0822f035e6547d3a0014462f26\n",
      "41:\t0028fb522104f771501a555d3f581e30e9ec3e49e3e63123432f07794145\n",
      "42:\t1459f6312f000e5a1373e346e40f211e1b0b0e17000f391f170552150500\n",
      "43:\t7e301e18325717e3412e022f087be30e5641080151357714e0e0eee15e11\n",
      "44:\t533258e9360f513b083aa51d2824222f40200a470537ecec392d31070b38\n",
      "45:\t07e32c180dfa56496a461627542115132a4c284050495b23e2245b093159\n",
      "46:\t2d3c230a1e5a300f6c3e26ed0d1709434950fd6f1e121335054129e4e4ec\n",
      "47:\tef22fa2112311b11584ce43434f46f521a215433f9514fe33d313a3e0838\n",
      "48:\t34e7f336270c08010f2f544f0f1c1e235c0222644c2632efec061de2115f\n",
      "49:\t121a42395d4c560d213b0c0a26a7e4f4382718153d5e511158a10b2c021e\n",
      "50:\te05d414dfa40222f0c382a03235f4d0d04372d4b7855105e26e44f2e0555\n",
      "51:\t7f3a4f1351f85b0344223e1177e14707190c0e311f4ca633f5f3e9352372\n",
      "52:\t01424d5d1a322a0d381717130e181d07240c2c19ecee750b1a37085d014c\n",
      "53:\t16012c5de55a0314a8260e2759e439123ca0c81c321d454e4e0ee14f4c1d\n",
      "54:\t0b1415512f38580e4e2a227def242643183c224f0ea146443403022fe9fd\n",
      "55:\t43eb2b1078322a02192d5b5e0c360d584d0b5e2c13072912ee32f03f4155\n",
      "56:\t002a52553e08361b0be0074b573e201c164c093a5c0f0159333b59770d5b\n",
      "57:\t38e63c1c5244301a5a01f26930321256143e1ae05e1120a9eaf20a192d58\n",
      "58:\t7d54140a152ef4035f09083ded531ee04df55848020656a1342e502649eb\n",
      "59:\t0c211dfe101702015516341136252f3f06f73247133113f5642d083a3417\n",
      "60:\t015e3d51433f3c003e5e28030b1d413eee186824504b241e0f0d32373e2b\n",
      "61:\t2d465040ec130c5c0e2704aa17010c40095207223669110f22f45ea155f7\n",
      "62:\t14552e2b341e5ce0195351066a23e3283e0ee935444b255a1c5c3cef7614\n",
      "63:\t372b453d5a357c05142be65b3c17f92d2b134853390a312bf92a531b513d\n",
      "64:\t5658265f4c0ce4440a20322f591a413034292b312206a01be6453a512d21\n",
      "65:\t1c585c19f31f785324f8583d1ee02620342b10a236263f105011ee5b0e14\n",
      "66:\t0f522b550818591a752e5fea0e033322ee5e280a4a1b244f5a2b35341255\n",
      "67:\t39093c1ced331b264127173f1312e2455fa33b31012c1f4d073c553f5d5e\n",
      "68:\t18f82d5d07e2430b3b3c1b5b49effb0313173f5d4a2e5c134555ff6b1d1a\n",
      "69:\t550a20234202726341190311295254f4064205aa515ae0145a23071c4e18\n",
      "70:\t3f2047024e3ce4555a1b39fa145455012c3afb0f2d11134846182e3c575b\n",
      "71:\te3e456571937762828065443153b51152e262f09c937024405284f236432\n",
      "72:\t012f580c3536ec5c021574541d5c41123a4e661d5f0f5f344a083e3a5e4c\n",
      "73:\t4216252d01eb0a2a4623621b48360d312c29f33e380650447617124b3e71\n",
      "74:\t54141e59323606390204e95f1206520e5c084510034d30171c5e744f335d\n",
      "75:\t1e30061401600b342e171059526d1949431a3f412f56594c183711ea4837\n",
      "76:\t3131254f11e76f550e1e4d26f1391f44363b151c31281ff45259351da0e6\n",
      "77:\t5def250d0f3505385f22e9f4112633005d272d092e0138275851f943e90e\n",
      "78:\t0939165718303b445210095c16390cf04f19450e06f4545c0a0c320e3e23\n",
      "79:\t1e0b0b1f573f3d0fe05d43090fa8482242300819313142325b1f4b19365b\n",
      "80:\t0d3b2a5d271e463d2203765245065d5d684a051e5815265b52f3171d3004\n",
      "81:\t6af423303817a43324394af15a5c482e3b16f5a46f1e0b5c1201214b5fe4\n",
      "82:\t4030544f3f51151e436e04203a5e3b287ee303490a43fb3b28042f36504e\n",
      "83:\t1a2d5a03fc0e2c04384046242e2b5e1548101825eb2f285f1a210f022141\n",
      "84:\t122355e90122281deeed3ba05636003826525d5551572d07030d4935201f\n",
      "85:\t2a3c484a15410d3b16375d4665271b5c4ce7ee37083d3e512b45204f17f6\n",
      "86:\t03222801255c2c211a7aeb1e042b4e38e8f1293143203139fb202c325f2b\n",
      "87:\t06542a28041956350e292bf3fe5c32133a2a171b3a3e4e4e3101381529e3\n",
      "88:\t4a5209ef24e5f3225e503b143d0e5747323fe7ee3d5b1b5110395619e65a\n",
      "89:\t1fee0a3945563d2b5703701817584b5f5b54702522f5031b561929ea2d1e\n",
      "90:\te7271935100e3c31211b23113a3a5524e02241181a251d521ff52f3c5a76\n",
      "91:\t144a0efee02f0f5f1d353a1c112e1909234f032953ec591e0a58e55d2cf4\n",
      "92:\tefee0cf00d0955500210015311467543544708eb590d113d30443d080c1e\n",
      "93:\t1a562c1f7e2b0030094f051c03e30f4d501a0fe22a2817edfc5e470c3843\n",
      "94:\t1c3df1135321a8e9241a5607f8305d571aa546001e3254555a11511924\n",
      "95:\teb1d3f54ec0fea341a097c502ff1111524e24f5b553e49e8576b5b0e1e33\n",
      "96:\t72413e2f5329e332ec563b5e65185efefd2c3b4e5f0b5133246d214a401d\n",
      "97:\t352a0ae632183d200a162e5346110552131514e0553e51003e220d47424b\n",
      "98:\t1d005c58135f3c1b53300c3b49263928f55625454f3be259361ded1f0834\n",
      "99:\t2d2457524a1e1204255934174d442a1a7d130f350a123c4a075f5be73e30\n",
      "100:\t0c0518582d131f39575925e0231833370c482b270e183810415d5aec1900\n",
      "101:\t453b181df1572735380b0446097f00111f1425070b2e1958102ceb592928\n",
      "102:\t010a4a2d0b0926082d2f1525562d1d070a7a08152f5b4438a4150b132e20\n",
      "103:\t2b395d0d5d015d41335d21250de33e3d42152d3f557d1e44e4ee22255d2d\n",
      "104:\t4a1b5c272d0d1c45072639362e402dee2853e51311262b17aa72eb390410\n",
      "105:\te7015f0215352030574b4108e44d0e1a204418e62325ff7f34052f234b2d\n",
      "106:\t1d563c13202346071d39e34055402b0b392c27f552222d3deb3843ee2c16\n",
      "107:\t29332a521f3c1b0811e33e1a25520e323e75e01c17473f55071226120d3d\n",
      "108:\t210b35ee1a0a5335222e35033905170c4f3104eb032d425058367d5a2bf2\n",
      "109:\t1e553809415efb1c460f2f0ffafaec491e4d4e49510452e8245a366a4106\n",
      "110:\te1f92cee0e10142514e7ec13155c412fe901092f1f0fa738280c5eee5e04\n",
      "111:\t3526291e0b2a5f486a3051041f4c16372f5402e6f70b31a03525190b161a\n",
      "112:\t260e5e1f0c2e4d7528ef11552fefe247201e4752085c1da903563c162a4b\n",
      "113:\t2a14ff2e3265e604075e523b24455c364a7f284f3a43051d52152f1119e8\n",
      "114:\t5f02e55a4b1300063640ef10151002565f0b0c010033a1cbef5d3634484a\n",
      "115:\t1b121c585b495a5e033a09037f2d1754072c2d49084055172a3c220bed4f\n",
      "116:\t1613400e1632435c0018482aa55b363d26290ae4405ded280f2b0c271536\n",
      "117:\t4011250ce02119464a1de43113170356342c272d1d3355555e5706245e0a\n",
      "118:\t16272d5e545953002e10020875e223010719555410f91ce518420e382456\n",
      "119:\t0d4037320345f945241a1d090a545a310142442131464f4d10562ae4f05a\n",
      "120:\t07ee4d4ae12e571e313c1636313134233e495459e548317708563c2c1b2f\n",
      "121:\te75803294b36565225552c3406304f0201e43323291b5e0e2159025c2f25\n",
      "122:\t5e63194411490c44494232237e1b323108573d3f391d1f3537e4165a2b35\n",
      "123:\t51000a3a264c503b5852072a5636f04f5cea58a42838f5fca876415c3521\n",
      "124:\t3c14130be511275932055a30aa2d03470c51060009f210543002585f5713\n",
      "125:\t10f0370c5823115200e5015d083e2f1a5df91d68065c1b03f0080855e529\n",
      "126:\t02ec00f1462d034123151ba6fc07eb3d5e54e85a3f3ee532fb41791a060b\n",
      "127:\t0c29274232f93efb3d465544e45e491b042ced245100e3f05c14134c254b\n",
      "128:\t5741235f051e080401a8013c065627e8ee5432205114243d54320e133f2d\n",
      "129:\t4a4d181635411f5d084e31ed230c16506d5125415e060e4dcd0e5f3708e3\n",
      "130:\t2d531c3e22065a5eee07310c145305131800063e4a20094b2006ea131240\n",
      "131:\te7335c1c4308160be6aa551a0f5a58243e0b10ee470047683c345e1c5b0c\n",
      "132:\t5434505ee22a18110d20342e4b53062c4d79042a0a02422e225b2523e95a\n",
      "133:\t3252212407115c07e15eee06391d0519e9271b641330011f383410281f0e\n",
      "134:\t2cee2b355233292b595d1c69592f483b54584f7154fd4928560752e333a1\n",
      "135:\t17272b272f110df5e91c560a39104510240b5c4b0c1c570871e422351927\n",
      "136:\tc32550ec3f132c0c2458503ae5241d3c0d7911480a073826315620403615\n",
      "137:\t16e11c270d2b010650145de2290b0beb1e120a3a354b2104064f3b533c4e\n",
      "138:\t505746313d4d2e3455290a281ee81d50007e1148252528025237715a342a\n",
      "139:\t1c0a13163e404e40242142061d34185421160220fa031f7a423a08f2e01a\n",
      "140:\t101d303802f51b0c08ef461259315b553823e622a12d565509e23c624139\n",
      "141:\t0a3d1309e4384c0eed383846545a035a41ee1771513b090a031e15f45159\n",
      "142:\t2d4944092a1965542507003b23195758403e175a0a450c5c38114de21141\n",
      "143:\teb100fe63a031c4b35eb591845e428441c0d5b0037131f5c160a31243619\n",
      "144:\tc155ef0d19143e24392507a202581a25491b135c27571d5c5b35250f0bef\n",
      "145:\t0e1d510556485e39557e044e2cf10457523016473f500b1e36370c17591c\n"
     ]
    },
    {
     "name": "stdout",
     "output_type": "stream",
     "text": [
      "146:\t7e5a19250a5e152b46f5130a094cef08e84704ef10197324464b0114017a\n",
      "147:\t3b56f126390008343d3c400232ed201667211f0b1a1413080202530b08e2\n",
      "148:\t4912321b61c90a0cf6ef0a0a0c0f17fa62eb385e2616194526701aff5fe6\n",
      "149:\t2c57114b0400152d4f2aeb18ed41386c2e3a023a281d1a311eefe750ebab\n",
      "150:\t3a4353282114593b3e36446d2c5e1e582e335337022930331f211604576a\n",
      "151:\t295f3bfae9271ae8065a3b4417545c3e5b0df11a53351c78530915392d2e\n",
      "152:\t074a122ee01b17131e4e124e2322a9560ce4120e37582b24e1036fe93f30\n",
      "153:\t3c08290121090ef72f25e4f220323444532d3fe71f34553c7b2726131009\n",
      "154:\t12e84a3308590357a719e74c4f2133690a20031a0b045af63551325b1219\n",
      "155:\t0e3d4fe03f56523cf40f29e4353455120e3a4f2f26f6a30a2b3e0c5b085a\n",
      "156:\t57f3315c33e41c0f523426232d0651395c1525274e314d0219163b5f181f\n",
      "157:\t53471622182739e9e25b473d74e1e7023d095a3134e62d1366563004120e\n",
      "158:\t230a06431935391d5e0b5543223a3bed2b4358f555401e1b3b5c36470d11\n",
      "159:\t22100330e03b4812e6120f163b1ef6abebe6f602545ef9a459e33d334c2a\n",
      "160:\t463405faa655563a43532cfe154bec32fe3345eb2c2700340811213e5006\n",
      "161:\t14241340112b2916017c270a0652732ee8121132385a6c020c040e2be15b\n",
      "162:\t251119225c573b105d5c0a371c3d421ef23e22377fee334e0228561b2d15\n",
      "163:\t2e4c2e373b434b0d0b1b340c300e4b195614130ea03c234c292e14530c46\n",
      "164:\t0d2c3f08560ee32e5a5b6413355215384442563e69ec294a0eef561e3053\n",
      "165:\t193c100c0b24231c012273e10d2e12552723586120020b02e45632265e5f\n",
      "166:\t2c175a11553d4b0b16025e2534180964245b125e5d6e595d1d2a0710580b\n",
      "167:\t213a175ff30855e4001b305000263f5a5c3c5100163cee00114e3518f33a\n",
      "168:\t10ed33e65b003012e7131e161d5e2e270b4645f358394118330f5a5b241b\n",
      "169:\t33e80130f45708395457573406422a3b0d03e6e5053d0d2d151c083337a2\n",
      "170:\t551be2082b1563c4ec2247140400124d4b6508041b5a472256093aea1847\n",
      "171:\t7b5a4215415d544115415d5015455447414c155c46155f4058455c5b523f\n"
     ]
    },
    {
     "ename": "NameError",
     "evalue": "name 'num_words' is not defined",
     "output_type": "error",
     "traceback": [
      "\u001b[0;31m---------------------------------------------------------------------------\u001b[0m",
      "\u001b[0;31mNameError\u001b[0m                                 Traceback (most recent call last)",
      "\u001b[0;32m<ipython-input-24-1bb15adfcee0>\u001b[0m in \u001b[0;36m<module>\u001b[0;34m\u001b[0m\n\u001b[1;32m      4\u001b[0m \u001b[0;32mfor\u001b[0m \u001b[0mline\u001b[0m \u001b[0;32min\u001b[0m \u001b[0mlines\u001b[0m\u001b[0;34m:\u001b[0m\u001b[0;34m\u001b[0m\u001b[0;34m\u001b[0m\u001b[0m\n\u001b[1;32m      5\u001b[0m     \u001b[0mprint\u001b[0m\u001b[0;34m(\u001b[0m\u001b[0;34mf'{i}:\\t{line}'\u001b[0m\u001b[0;34m)\u001b[0m\u001b[0;34m\u001b[0m\u001b[0;34m\u001b[0m\u001b[0m\n\u001b[0;32m----> 6\u001b[0;31m     \u001b[0mdisplay_strings\u001b[0m\u001b[0;34m(\u001b[0m\u001b[0mline\u001b[0m\u001b[0;34m,\u001b[0m \u001b[0;36m23\u001b[0m\u001b[0;34m)\u001b[0m\u001b[0;34m\u001b[0m\u001b[0;34m\u001b[0m\u001b[0m\n\u001b[0m\u001b[1;32m      7\u001b[0m     \u001b[0mi\u001b[0m \u001b[0;34m+=\u001b[0m \u001b[0;36m1\u001b[0m\u001b[0;34m\u001b[0m\u001b[0;34m\u001b[0m\u001b[0m\n",
      "\u001b[0;32m<ipython-input-23-27ffae1c01b3>\u001b[0m in \u001b[0;36mdisplay_strings\u001b[0;34m(s, threshold, convert_to_bytes)\u001b[0m\n\u001b[1;32m     32\u001b[0m         \u001b[0mcandidate\u001b[0m \u001b[0;34m=\u001b[0m \u001b[0mbytearray\u001b[0m\u001b[0;34m(\u001b[0m\u001b[0;34m[\u001b[0m\u001b[0mb\u001b[0m\u001b[0;34m^\u001b[0m\u001b[0mi\u001b[0m \u001b[0;32mfor\u001b[0m \u001b[0mb\u001b[0m \u001b[0;32min\u001b[0m \u001b[0ms_bytes\u001b[0m\u001b[0;34m]\u001b[0m\u001b[0;34m)\u001b[0m\u001b[0;34m\u001b[0m\u001b[0;34m\u001b[0m\u001b[0m\n\u001b[1;32m     33\u001b[0m         \u001b[0;32mif\u001b[0m \u001b[0mis_printable\u001b[0m\u001b[0;34m(\u001b[0m\u001b[0mcandidate\u001b[0m\u001b[0;34m)\u001b[0m \u001b[0;32mand\u001b[0m \u001b[0mnum_spaces\u001b[0m\u001b[0;34m(\u001b[0m\u001b[0mcandidate\u001b[0m\u001b[0;34m)\u001b[0m \u001b[0;34m>\u001b[0m \u001b[0;36m3\u001b[0m\u001b[0;34m:\u001b[0m\u001b[0;34m\u001b[0m\u001b[0;34m\u001b[0m\u001b[0m\n\u001b[0;32m---> 34\u001b[0;31m             \u001b[0mprint\u001b[0m\u001b[0;34m(\u001b[0m\u001b[0;34m'\\t'\u001b[0m\u001b[0;34m,\u001b[0m \u001b[0mi\u001b[0m\u001b[0;34m,\u001b[0m \u001b[0mcount_letters\u001b[0m\u001b[0;34m(\u001b[0m\u001b[0mcandidate\u001b[0m\u001b[0;34m)\u001b[0m\u001b[0;34m,\u001b[0m \u001b[0mis_printable\u001b[0m\u001b[0;34m(\u001b[0m\u001b[0mcandidate\u001b[0m\u001b[0;34m)\u001b[0m\u001b[0;34m,\u001b[0m \u001b[0mnum_words\u001b[0m\u001b[0;34m(\u001b[0m\u001b[0mcandidate\u001b[0m\u001b[0;34m)\u001b[0m\u001b[0;34m,\u001b[0m \u001b[0mcandidate\u001b[0m\u001b[0;34m)\u001b[0m\u001b[0;34m\u001b[0m\u001b[0;34m\u001b[0m\u001b[0m\n\u001b[0m\u001b[1;32m     35\u001b[0m \u001b[0;34m\u001b[0m\u001b[0m\n\u001b[1;32m     36\u001b[0m \u001b[0ms_hex\u001b[0m \u001b[0;34m=\u001b[0m \u001b[0;34m'1b37373331363f78151b7f2b783431333d78397828372d363c78373e783a393b3736'\u001b[0m\u001b[0;34m\u001b[0m\u001b[0;34m\u001b[0m\u001b[0m\n",
      "\u001b[0;31mNameError\u001b[0m: name 'num_words' is not defined"
     ]
    }
   ],
   "source": [
    "lines = readfile('4.txt')\n",
    "\n",
    "i = 1\n",
    "for line in lines:\n",
    "    print(f'{i}:\\t{line}')\n",
    "    display_strings(line, 23)\n",
    "    i += 1"
   ]
  },
  {
   "cell_type": "markdown",
   "metadata": {},
   "source": [
    "### Challenge 5: Implement Repeating-Key XOR\n",
    "\n",
    "To convert a string to a list of bytes, use the encode function:\n",
    "```\n",
    "s_bytes = s.encode()\n",
    "```"
   ]
  },
  {
   "cell_type": "code",
   "execution_count": 25,
   "metadata": {},
   "outputs": [
    {
     "data": {
      "text/plain": [
       "b'0b3637272a2b2e63622c2e69692a23693a2a3c6324202d623d63343c2a26226324272765272a282b2f20430a652e2c652a3124333a653e2b2027630c692b20283165286326302e27282f'"
      ]
     },
     "execution_count": 25,
     "metadata": {},
     "output_type": "execute_result"
    }
   ],
   "source": [
    "def repeating_key_XOR(plaintext: str, key: str):\n",
    "    \"\"\"given a plaintext and key, return a hex-encode ciphertext comprised of the repeating-key XOR\"\"\"\n",
    "    \n",
    "    # https://stackoverflow.com/questions/7585435/best-way-to-convert-string-to-bytes-in-python-3\n",
    "    key_bytes = key.encode()\n",
    "    plaintext_bytes = plaintext.encode()\n",
    "    \n",
    "    i = 0\n",
    "    ciphertext_bytes = bytearray()\n",
    "    for b in plaintext_bytes:\n",
    "        ciphertext_bytes.append(b ^ key_bytes[i])\n",
    "        i = (i + 1) % len(key_bytes)\n",
    "\n",
    "    return codecs.encode(ciphertext_bytes, 'hex')\n",
    "\n",
    "plaintext = 'Burning \\'em, if you ain\\'t quick and nimble\\nI go crazy when I hear a cymbal'\n",
    "key = 'ICE'\n",
    "repeating_key_XOR(plaintext, key)"
   ]
  },
  {
   "cell_type": "markdown",
   "metadata": {},
   "source": [
    "### Challenge 6: Break repeating-key XOR\n",
    "\n",
    "Compute the hamming distance between two strings"
   ]
  },
  {
   "cell_type": "code",
   "execution_count": 26,
   "metadata": {},
   "outputs": [],
   "source": [
    "def hamming(a, b, convert_to_bytes=True):\n",
    "    \"\"\"return the hamming distance between two strings\"\"\"\n",
    "    \n",
    "    def bit_diff(a_byte, b_byte):\n",
    "        \"\"\"return the number of bits different between two bytes\"\"\"\n",
    "        return sum([(a_byte >> j) & 0x1 != (b_byte >> j) & 0x1 for j in range(8)])\n",
    "    \n",
    "    assert len(a)==len(b)\n",
    "    \n",
    "    if convert_to_bytes:\n",
    "        a, b = a.encode(), b.encode()\n",
    "    \n",
    "    return sum([bit_diff(a[i], b[i]) for i in range(len(a))])\n",
    "\n",
    "assert hamming('this is a test', 'wokka wokka!!!', True)==37"
   ]
  },
  {
   "cell_type": "markdown",
   "metadata": {},
   "source": [
    "Read in the file and convert from base64 to byte array"
   ]
  },
  {
   "cell_type": "code",
   "execution_count": 27,
   "metadata": {},
   "outputs": [],
   "source": [
    "import base64\n",
    "\n",
    "# get the text as a list of bytes\n",
    "with open('6.txt') as f:\n",
    "    # strip off new lines and create a list of the lines in the file\n",
    "    lines = map(lambda x: x.rstrip('\\n'), list(f))\n",
    "\n",
    "# join the lines and decode as base64 to bytearray\n",
    "text = base64.b64decode(''.join(lines))"
   ]
  },
  {
   "cell_type": "markdown",
   "metadata": {},
   "source": [
    "Follow steps 3 and 4"
   ]
  },
  {
   "cell_type": "code",
   "execution_count": 28,
   "metadata": {},
   "outputs": [
    {
     "name": "stdout",
     "output_type": "stream",
     "text": [
      "(5, 1.6)\n",
      "(20, 2.75)\n",
      "(13, 2.769230769230769)\n",
      "(38, 2.973684210526316)\n",
      "(18, 3.0)\n",
      "(11, 3.090909090909091)\n",
      "(16, 3.125)\n",
      "(37, 3.1621621621621623)\n",
      "(17, 3.176470588235294)\n",
      "(8, 3.25)\n"
     ]
    }
   ],
   "source": [
    "# step 3: For each KEYSIZE, take the first KEYSIZE worth of bytes,\n",
    "# and the second KEYSIZE worth of bytes, and find the edit distance between them.\n",
    "#Normalize this result by dividing by KEYSIZE\n",
    "l_edit_distance = []\n",
    "for keylength in range(1, 40):\n",
    "    a = text[0:keylength + 1]\n",
    "    b = text[keylength:2*keylength + 1]\n",
    "    l_edit_distance.append((keylength, hamming(a, b, False)/keylength))\n",
    "\n",
    "# step 4: The KEYSIZE with the smallest normalized edit distance is probably the key.\n",
    "# You could proceed perhaps with the smallest 2-3 KEYSIZE values. Or take 4 KEYSIZE blocks\n",
    "# instead of 2 and average the distances\n",
    "l_edit_distance.sort(key=lambda x: x[1])\n",
    "for d in l_edit_distance[0:10]:\n",
    "    print(d)"
   ]
  },
  {
   "cell_type": "code",
   "execution_count": 29,
   "metadata": {},
   "outputs": [],
   "source": [
    "# step 5: Now that you probably know the KEYSIZE: break the ciphertext into blocks of KEYSIZE length.\n",
    "\n",
    "def divide_by_keysize(text, keysize):\n",
    "    return [text[i:i + keysize] for i in range(0, len(text), keysize)]\n",
    "    \n",
    "\n",
    "#print(len(text))\n",
    "#list(map(len, divide_by_keysize(text, 5)))\n"
   ]
  },
  {
   "cell_type": "code",
   "execution_count": 30,
   "metadata": {},
   "outputs": [
    {
     "name": "stdout",
     "output_type": "stream",
     "text": [
      "None\n"
     ]
    }
   ],
   "source": [
    "def transpose(l_block, keysize):\n",
    "    def get_kth_byte(l_block, k):\n",
    "        l_word = bytearray()\n",
    "        for b in l_block:\n",
    "            try:\n",
    "                l_word.append(b[k])\n",
    "            except:\n",
    "                break\n",
    "        return l_word\n",
    "    \n",
    "    return [get_kth_byte(l_block, k) for k in range(keysize)]\n",
    "\n",
    "text_div = divide_by_keysize(text, 20)\n",
    "l_strings = transpose(text_div, 20)\n",
    "\n",
    "print(display_strings(l_strings[19], 90, False))\n"
   ]
  },
  {
   "cell_type": "markdown",
   "metadata": {},
   "source": [
    "### Challenge 7: AES in ECB mode\n",
    "\n",
    "This [link](https://techtutorialsx.com/2018/04/09/python-pycrypto-using-aes-128-in-ecb-mode/) has a good tutorial on using AES in ECB mode.\n",
    "\n",
    "This challenge required a number of conversions:\n",
    "1. a string of base-64 to a list of bytes of base-64 encoded data.  convert with ```lines.encode()```\n",
    "2. bytes of base-64 encoded data to raw bytes.  convert with ```codecs.decode(..., 'base64')```\n",
    "3. raw bytes to convert to a string ```string.decode('utf-8')```"
   ]
  },
  {
   "cell_type": "code",
   "execution_count": 15,
   "metadata": {},
   "outputs": [
    {
     "name": "stdout",
     "output_type": "stream",
     "text": [
      "I'm back and I'm ringin' the bell \n",
      "A rockin' on the mike while the fly girls yell \n",
      "In ecstasy in the back of me \n",
      "Well that's my DJ Deshay cuttin' all them Z's \n",
      "Hittin' hard and the girlies goin' crazy \n",
      "Vanilla's on the mike, man I'm not lazy. \n",
      "\n",
      "I'm lettin' my drug kick in \n",
      "It controls my mouth and I begin \n",
      "To just let it flow, let my concepts go \n",
      "My posse's to the side yellin', Go Vanilla Go! \n",
      "\n",
      "Smooth 'cause that's the way I will be \n",
      "And if you don't give a damn, then \n",
      "Why you starin' at me \n",
      "So get off 'cause I control the stage \n",
      "There's no dissin' allowed \n",
      "I'm in my own phase \n",
      "The girlies sa y they love me and that is ok \n",
      "And I can dance better than any kid n' play \n",
      "\n",
      "Stage 2 -- Yea the one ya' wanna listen to \n",
      "It's off my head so let the beat play through \n",
      "So I can funk it up and make it sound good \n",
      "1-2-3 Yo -- Knock on some wood \n",
      "For good luck, I like my rhymes atrocious \n",
      "Supercalafragilisticexpialidocious \n",
      "I'm an effect and that you can bet \n",
      "I can take a fly girl and make her wet. \n",
      "\n",
      "I'm like Samson -- Samson to Delilah \n",
      "There's no denyin', You can try to hang \n",
      "But you'll keep tryin' to get my style \n",
      "Over and over, practice makes perfect \n",
      "But not if you're a loafer. \n",
      "\n",
      "You'll get nowhere, no place, no time, no girls \n",
      "Soon -- Oh my God, homebody, you probably eat \n",
      "Spaghetti with a spoon! Come on and say it! \n",
      "\n",
      "VIP. Vanilla Ice yep, yep, I'm comin' hard like a rhino \n",
      "Intoxicating so you stagger like a wino \n",
      "So punks stop trying and girl stop cryin' \n",
      "Vanilla Ice is sellin' and you people are buyin' \n",
      "'Cause why the freaks are jockin' like Crazy Glue \n",
      "Movin' and groovin' trying to sing along \n",
      "All through the ghetto groovin' this here song \n",
      "Now you're amazed by the VIP posse. \n",
      "\n",
      "Steppin' so hard like a German Nazi \n",
      "Startled by the bases hittin' ground \n",
      "There's no trippin' on mine, I'm just gettin' down \n",
      "Sparkamatic, I'm hangin' tight like a fanatic \n",
      "You trapped me once and I thought that \n",
      "You might have it \n",
      "So step down and lend me your ear \n",
      "'89 in my time! You, '90 is my year. \n",
      "\n",
      "You're weakenin' fast, YO! and I can tell it \n",
      "Your body's gettin' hot, so, so I can smell it \n",
      "So don't be mad and don't be sad \n",
      "'Cause the lyrics belong to ICE, You can call me Dad \n",
      "You're pitchin' a fit, so step back and endure \n",
      "Let the witch doctor, Ice, do the dance to cure \n",
      "So come up close and don't be square \n",
      "You wanna battle me -- Anytime, anywhere \n",
      "\n",
      "You thought that I was weak, Boy, you're dead wrong \n",
      "So come on, everybody and sing this song \n",
      "\n",
      "Say -- Play that funky music Say, go white boy, go white boy go \n",
      "play that funky music Go white boy, go white boy, go \n",
      "Lay down and boogie and play that funky music till you die. \n",
      "\n",
      "Play that funky music Come on, Come on, let me hear \n",
      "Play that funky music white boy you say it, say it \n",
      "Play that funky music A little louder now \n",
      "Play that funky music, white boy Come on, Come on, Come on \n",
      "Play that funky music \n",
      "\u0004\u0004\u0004\u0004\n"
     ]
    }
   ],
   "source": [
    "from Crypto.Cipher import AES\n",
    "import codecs\n",
    "\n",
    "\n",
    "# the text file is base64 which needs to be an array of bytes\n",
    "with open('7.txt') as f:\n",
    "    # strip off new lines and create a list of the lines in the file\n",
    "    lines = list(map(lambda x: x.rstrip('\\n'), list(f)))\n",
    "    lines = ''.join(lines)\n",
    "    \n",
    "    # lines.encode() converts string to bytes\n",
    "    # codes.decode(_, 'base64') converts base64 encoded bytes to regular bytes\n",
    "    text = codecs.decode(lines.encode(), 'base64')\n",
    "\n",
    "\n",
    "key = \"YELLOW SUBMARINE\"\n",
    "decipher = AES.new(key, AES.MODE_ECB)\n",
    "print(decipher.decrypt(text).decode('utf-8'))"
   ]
  },
  {
   "cell_type": "markdown",
   "metadata": {},
   "source": [
    "## Challenge 8: Detect AES in ECB mode\n",
    "\n",
    "The duplicate line is:\n",
    "\n",
    "```\n",
    "d880619740a8a19b7840a8a31c810a3d08649af70dc06f4fd5d2d69c744cd283e2dd052f6b641dbf9d11b0348542bb5708649af70dc06f4fd5d2d69c744cd2839475c9dfdbc1d46597949d9c7e82bf5a08649af70dc06f4fd5d2d69c744cd28397a93eab8d6aecd566489154789a6b0308649af70dc06f4fd5d2d69c744cd283d403180c98c8f6db1f2a3f9c4040deb0ab51b29933f2c123c58386b06fba186a\n",
    "```"
   ]
  },
  {
   "cell_type": "code",
   "execution_count": 267,
   "metadata": {},
   "outputs": [
    {
     "name": "stdout",
     "output_type": "stream",
     "text": [
      "duplicate: d880619740a8a19b7840a8a31c810a3d08649af70dc06f4fd5d2d69c744cd283e2dd052f6b641dbf9d11b0348542bb5708649af70dc06f4fd5d2d69c744cd2839475c9dfdbc1d46597949d9c7e82bf5a08649af70dc06f4fd5d2d69c744cd28397a93eab8d6aecd566489154789a6b0308649af70dc06f4fd5d2d69c744cd283d403180c98c8f6db1f2a3f9c4040deb0ab51b29933f2c123c58386b06fba186a ['d880619740a8a19b7840a8a31c810a3d', '08649af70dc06f4fd5d2d69c744cd283', 'e2dd052f6b641dbf9d11b0348542bb57', '08649af70dc06f4fd5d2d69c744cd283', '9475c9dfdbc1d46597949d9c7e82bf5a', '08649af70dc06f4fd5d2d69c744cd283', '97a93eab8d6aecd566489154789a6b03', '08649af70dc06f4fd5d2d69c744cd283', 'd403180c98c8f6db1f2a3f9c4040deb0', 'ab51b29933f2c123c58386b06fba186a']\n"
     ]
    }
   ],
   "source": [
    "with open('8.txt') as f:\n",
    "    # strip off new lines and create a list of the lines in the file\n",
    "    lines = list(map(lambda x: x.rstrip('\\n'), list(f)))\n",
    "\n",
    "def divide_into_blocks(text, blocksize):\n",
    "    \"\"\"divide string int blocks\"\"\"\n",
    "    return [text[i:i + blocksize] for i in range(0, len(text), blocksize)]\n",
    "\n",
    "def duplicates(l: list):\n",
    "    \"\"\"returns true if there are duplicates in the list l\"\"\"\n",
    "    return len(l)!=len(set(l))\n",
    "\n",
    "for line in lines:\n",
    "    # note: for a 16B block used in a AES, the blocksize should be 2*16, since the file\n",
    "    # is in hexadecimal which represents bytes by 2 characters\n",
    "    b = divide_into_blocks(line, blocksize=32)\n",
    "    # print(b)\n",
    "    if duplicates(b):\n",
    "        print('duplicate:', line, b)"
   ]
  }
 ],
 "metadata": {
  "kernelspec": {
   "display_name": "Python 3",
   "language": "python",
   "name": "python3"
  },
  "language_info": {
   "codemirror_mode": {
    "name": "ipython",
    "version": 3
   },
   "file_extension": ".py",
   "mimetype": "text/x-python",
   "name": "python",
   "nbconvert_exporter": "python",
   "pygments_lexer": "ipython3",
   "version": "3.6.9"
  }
 },
 "nbformat": 4,
 "nbformat_minor": 2
}
