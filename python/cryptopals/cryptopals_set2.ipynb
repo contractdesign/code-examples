{
 "cells": [
  {
   "cell_type": "markdown",
   "metadata": {},
   "source": [
    "This notebook has solutions to the cryptopals [set 2 problems](https://cryptopals.com/sets/2).\n",
    "\n",
    "### Challenge 9: Implement PKCS#7 padding"
   ]
  },
  {
   "cell_type": "code",
   "execution_count": 39,
   "metadata": {},
   "outputs": [
    {
     "data": {
      "text/plain": [
       "b'YELLOW SUBMARINE\\x04\\x04\\x04\\x04'"
      ]
     },
     "execution_count": 39,
     "metadata": {},
     "output_type": "execute_result"
    }
   ],
   "source": [
    "\n",
    "#https://stackoverflow.com/questions/21017698/converting-int-to-bytes-in-python-3\n",
    "\n",
    "def pkcs7_pad(ba: bytearray, blocksize: int):\n",
    "    \"\"\"given bytes to pad and a blocksize, return bytes padded according to PKCS#7\"\"\"\n",
    "    result = ba\n",
    "    remainder = len(ba) % blocksize\n",
    "    if remainder > 0:\n",
    "        # if padding is needed, pad with a byte whose value is the number of bytes to pad\n",
    "        pad_length = blocksize - remainder\n",
    "        result = ba + bytes([pad_length]*pad_length)\n",
    "    return result\n",
    "\n",
    "pkcs7_pad('YELLOW SUBMARINE'.encode(), 20)"
   ]
  },
  {
   "cell_type": "markdown",
   "metadata": {},
   "source": [
    "### Challenge 10: Implement CBC mode"
   ]
  },
  {
   "cell_type": "code",
   "execution_count": 21,
   "metadata": {},
   "outputs": [
    {
     "name": "stdout",
     "output_type": "stream",
     "text": [
      "b'\\x00\\x00\\x00\\x00\\x00\\x00\\x00\\x00'\n"
     ]
    }
   ],
   "source": [
    "from Crypto.Cipher import AES\n",
    "\n",
    "def aes_cbc(plaintext, key, iv):\n",
    "    encipher = AES.new(key, AES.MODE_ECB)\n",
    "    \n",
    "    pass\n",
    "\n",
    "\n",
    "\n",
    "#print(decipher.encrypt(text).decode('utf-8'))\n",
    "\n",
    "iv = bytes([0]*8)\n",
    "print(iv)"
   ]
  },
  {
   "cell_type": "markdown",
   "metadata": {},
   "source": [
    "### Challenge 15: PKCS#7 padding violation"
   ]
  },
  {
   "cell_type": "code",
   "execution_count": 43,
   "metadata": {},
   "outputs": [],
   "source": [
    "def pkcs7_validate(text: bytearray, blocksize: int):\n",
    "    \"\"\"\"\"\"\n",
    "    remainder = len(text) % blocksize\n",
    "    if remainder>0:        \n",
    "        if text[-remainder:]!=bytes([remainder]*remainder):\n",
    "            raise Exception('Invalid_PKCS7')\n",
    "    return True\n",
    "\n",
    "assert pkcs7_validate(\"test\", 4)==True\n",
    "text = bytearray(pkcs7_pad('YELLOW SUBMARINE'.encode(), 20))\n",
    "assert pkcs7_validate(pkcs7_pad(text, 20), 20)==True\n",
    "text[19]=3\n",
    "\n",
    "try:\n",
    "    pkcs7_validate(pkcs7_pad(text, 20), 20)\n",
    "except Invalid_PKCS7:\n",
    "    print('pass')\n",
    "    \n",
    "\n"
   ]
  },
  {
   "cell_type": "code",
   "execution_count": null,
   "metadata": {},
   "outputs": [],
   "source": []
  }
 ],
 "metadata": {
  "kernelspec": {
   "display_name": "Python 3",
   "language": "python",
   "name": "python3"
  },
  "language_info": {
   "codemirror_mode": {
    "name": "ipython",
    "version": 3
   },
   "file_extension": ".py",
   "mimetype": "text/x-python",
   "name": "python",
   "nbconvert_exporter": "python",
   "pygments_lexer": "ipython3",
   "version": "3.6.9"
  }
 },
 "nbformat": 4,
 "nbformat_minor": 2
}
