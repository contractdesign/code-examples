{
 "cells": [
  {
   "cell_type": "markdown",
   "metadata": {},
   "source": [
    "Problem [GC content](http://rosalind.info/problems/gc/)"
   ]
  },
  {
   "cell_type": "code",
   "execution_count": 59,
   "metadata": {
    "scrolled": true
   },
   "outputs": [],
   "source": [
    "def read_fasta(filename):\n",
    "    \"\"\"\n",
    "    given the filename of a FASTA file, return a dictionary with the key is the ID\n",
    "    and the value is the sequence\n",
    "    \"\"\"\n",
    "    d_fasta = dict()\n",
    "    with open(filename) as f:\n",
    "        for line in f:\n",
    "            line = line.rstrip()\n",
    "            if line[0]=='>':\n",
    "                # start of a new sequence\n",
    "                name = line[1:]\n",
    "                d_fasta[name] = \"\"\n",
    "            else:\n",
    "                # continuation of a sequence\n",
    "                try:\n",
    "                    d_fasta[name] += line\n",
    "                except:\n",
    "                    print(f'Error adding {line}')\n",
    "    return d_fasta\n",
    "\n",
    "def gc_content(seq):\n",
    "    \"\"\"\n",
    "    given a DNA sequence, return the percentage of GC content\n",
    "    \"\"\"\n",
    "    gc_content = len([item for item in seq if item in 'CG'])\n",
    "    return gc_content / len(seq) * 100\n",
    "            \n",
    "def print_greatest_gc(filename):\n",
    "    \"\"\"\n",
    "    read in a FASTA file and return the entry with the name of the entry with\n",
    "    the largest GC content and its value\n",
    "    \"\"\"\n",
    "    d_fasta = read_fasta(filename)\n",
    "    \n",
    "    # variable to keep track of name and value of maximum seen so far\n",
    "    name_max, gc_max = None, -1\n",
    "    for name in d_fasta:\n",
    "        gc = gc_content(d_fasta[name])\n",
    "        print(f'\\t{name}\\t{gc}')\n",
    "        if gc > gc_max:\n",
    "            name_max, gc_max = name, gc\n",
    "\n",
    "    print(f'{name_max}\\n{gc_max}')"
   ]
  },
  {
   "cell_type": "code",
   "execution_count": 60,
   "metadata": {},
   "outputs": [
    {
     "name": "stdout",
     "output_type": "stream",
     "text": [
      "\tRosalind_0656\t49.815498154981555\n",
      "\tRosalind_6031\t48.1981981981982\n",
      "\tRosalind_6552\t53.407682775712516\n",
      "\tRosalind_2912\t49.354838709677416\n",
      "\tRosalind_6256\t46.86431014823261\n",
      "\tRosalind_9732\t47.71309771309771\n",
      "\tRosalind_8888\t49.684210526315795\n",
      "\tRosalind_4142\t50.95693779904307\n",
      "\tRosalind_5751\t51.029748283752866\n",
      "\tRosalind_5089\t48.170731707317074\n",
      "Rosalind_6552\n",
      "53.407682775712516\n"
     ]
    }
   ],
   "source": [
    "print_greatest_gc('rosalind_gc.txt')"
   ]
  },
  {
   "cell_type": "code",
   "execution_count": null,
   "metadata": {},
   "outputs": [],
   "source": []
  }
 ],
 "metadata": {
  "kernelspec": {
   "display_name": "Python 3",
   "language": "python",
   "name": "python3"
  },
  "language_info": {
   "codemirror_mode": {
    "name": "ipython",
    "version": 3
   },
   "file_extension": ".py",
   "mimetype": "text/x-python",
   "name": "python",
   "nbconvert_exporter": "python",
   "pygments_lexer": "ipython3",
   "version": "3.8.2"
  }
 },
 "nbformat": 4,
 "nbformat_minor": 2
}
