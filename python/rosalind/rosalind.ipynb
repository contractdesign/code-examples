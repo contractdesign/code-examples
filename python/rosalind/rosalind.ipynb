{
 "cells": [
  {
   "cell_type": "markdown",
   "metadata": {},
   "source": [
    "Problem [Overlap Graphs](http://rosalind.info/problems/grph/)"
   ]
  },
  {
   "cell_type": "code",
   "execution_count": 78,
   "metadata": {},
   "outputs": [
    {
     "name": "stdout",
     "output_type": "stream",
     "text": [
      "AAA Rosalind_0498 Rosalind_2391\n",
      "AAA Rosalind_0498 Rosalind_0442\n",
      "TTT Rosalind_2391 Rosalind_2323\n"
     ]
    }
   ],
   "source": [
    "s = '''>Rosalind_0498\n",
    "AAATAAA\n",
    ">Rosalind_2391\n",
    "AAATTTT\n",
    ">Rosalind_2323\n",
    "TTTTCCC\n",
    ">Rosalind_0442\n",
    "AAATCCC\n",
    ">Rosalind_5013\n",
    "GGGTGGG'''\n",
    "\n",
    "# TODO change to reading in a file rather than a string\n",
    "def get_FASTA(s):\n",
    "    d_fasta = {}\n",
    "    name = None\n",
    "    seq = ''\n",
    "    for line in s.split('\\n'):\n",
    "        if line[0]=='>':\n",
    "            if name:\n",
    "                d_fasta[name] = seq\n",
    "            name=line[1:]\n",
    "            seq = ''\n",
    "        else:\n",
    "            seq += line\n",
    "    # get last entry\n",
    "    if name:\n",
    "        d_fasta[name] = seq\n",
    "    return d_fasta\n",
    "\n",
    "def process(d_fasta, n):\n",
    "    d_prefix = {}\n",
    "    d_suffix = {}\n",
    "    common = set()\n",
    "    for name in d_fasta.keys():\n",
    "        seq = d_fasta[name]\n",
    "        \n",
    "        prefix = seq[0:n]\n",
    "        if prefix not in d_prefix:\n",
    "            d_prefix[prefix] = []\n",
    "        d_prefix[prefix].append(name)\n",
    "        \n",
    "        suffix = seq[-n:]\n",
    "        if suffix not in d_suffix:\n",
    "            d_suffix[suffix] = []\n",
    "        d_suffix[suffix].append(name)\n",
    "                    \n",
    "    # find the intersection of suffixes and prefixes\n",
    "    for common in sorted(set(d_suffix.keys()).intersection(d_prefix.keys())):\n",
    "        for name_suffix in d_suffix[common]:\n",
    "            for name_prefix in d_prefix[common]:\n",
    "                if name_suffix != name_prefix:\n",
    "                    print( common, name_suffix, name_prefix )\n",
    "\n",
    "process(get_FASTA(s), 3)"
   ]
  },
  {
   "cell_type": "code",
   "execution_count": null,
   "metadata": {},
   "outputs": [],
   "source": []
  }
 ],
 "metadata": {
  "kernelspec": {
   "display_name": "Python 3",
   "language": "python",
   "name": "python3"
  },
  "language_info": {
   "codemirror_mode": {
    "name": "ipython",
    "version": 3
   },
   "file_extension": ".py",
   "mimetype": "text/x-python",
   "name": "python",
   "nbconvert_exporter": "python",
   "pygments_lexer": "ipython3",
   "version": "3.6.8"
  }
 },
 "nbformat": 4,
 "nbformat_minor": 2
}
